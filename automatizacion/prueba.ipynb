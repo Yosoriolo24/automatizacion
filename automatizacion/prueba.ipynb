{
 "cells": [
  {
   "cell_type": "code",
   "execution_count": null,
   "id": "82c64178",
   "metadata": {},
   "outputs": [
    {
     "name": "stdout",
     "output_type": "stream",
     "text": [
      "Conexion exitosa: openeducation.my.salesforce.com\n",
      "Versión: 59.0\n",
      "📄 Reporte guardado como 'reporte_casos.xlsx'.\n"
     ]
    }
   ],
   "source": [
    "from simple_salesforce import Salesforce, SalesforceAuthenticationFailed, SalesforceMalformedRequest\n",
    "import pandas as pd\n",
    "try:\n",
    "# Autenticación\n",
    "    sf = Salesforce(\n",
    "        username='yonatan.osorio@openenglish.com',\n",
    "        password='Yonatan26++',\n",
    "        security_token='ho7zyIcpDbybcP1G7tLbor6sU'\n",
    "    )\n",
    "\n",
    "    print(\"Conexion exitosa: \"+sf.sf_instance)\n",
    "    print(\"Versión: \"+sf.sf_version)\n",
    "\n",
    "    # Consulta SOQL (puedes ajustarla a tu necesidad)\n",
    "    soql_query = \"\"\"\n",
    "    SELECT \n",
    "    AccountId,\n",
    "    Account.CaseSafe_Id__c,\n",
    "    CaseNumber,\n",
    "    Email__c,\n",
    "    Description,\n",
    "    Status,\n",
    "    Account.CreatedDate,\n",
    "    Closed_Date__c,\n",
    "    Case_Owner_read_only__c,\n",
    "    LeadName__c,\n",
    "    Organization__c,\n",
    "    Sub_Status_Original__c,\n",
    "    Sub_Status_Recovery__c,\n",
    "    Sub_Status__c,\n",
    "    Account.BillingCountry,\n",
    "    LeadCountry__c,\n",
    "    Type,\n",
    "    Subject,\n",
    "    Related_Country__c \n",
    "    FROM Case LIMIT 50000\n",
    "    \"\"\"\n",
    "\n",
    "    # Ejecutar la consulta\n",
    "    resultado = sf.query_all(soql_query)\n",
    "    registros = resultado['records']\n",
    "\n",
    "    # Normalizar datos relacionados (como Account)\n",
    "    for r in registros:\n",
    "        r.pop('attributes', None)\n",
    "        account = r.get('Account')\n",
    "        if account:\n",
    "            r['Account.CaseSafe_Id__c'] = account.get('CaseSafe_Id__c')\n",
    "            r['Account.BillingCountry'] = account.get('BillingCountry')\n",
    "            r['Account.CreatedDate'] = account.get('CreatedDate')\n",
    "        else:\n",
    "            r['Account.CaseSafe_Id__c'] = None\n",
    "            r['Account.BillingCountry'] = None\n",
    "            r['Account.CreatedDate'] = None\n",
    "        r.pop('Account', None)\n",
    "\n",
    "    # Convertir a DataFrame\n",
    "    df = pd.DataFrame(registros)\n",
    "\n",
    "    # Guardar como CSV\n",
    "    df.to_excel('reporte_casos.xlsx', index=False)\n",
    "    print(\"📄 Reporte guardado como 'reporte_casos.xlsx'.\")\n",
    "\n",
    "except SalesforceAuthenticationFailed as e:\n",
    "    print(f\"❌ Error de autenticación: {e}\")\n",
    "except SalesforceMalformedRequest as e:\n",
    "    print(f\"❌ Error en la consulta SOQL: {e.content}\")\n",
    "except Exception as e:\n",
    "    print(f\"❌ Error inesperado: {e}\")\n",
    "    \n",
    "    \n"
   ]
  }
 ],
 "metadata": {
  "kernelspec": {
   "display_name": "Python 3",
   "language": "python",
   "name": "python3"
  },
  "language_info": {
   "codemirror_mode": {
    "name": "ipython",
    "version": 3
   },
   "file_extension": ".py",
   "mimetype": "text/x-python",
   "name": "python",
   "nbconvert_exporter": "python",
   "pygments_lexer": "ipython3",
   "version": "3.13.3"
  }
 },
 "nbformat": 4,
 "nbformat_minor": 5
}
