{
 "cells": [
  {
   "cell_type": "code",
   "execution_count": 18,
   "id": "e8f4d284",
   "metadata": {},
   "outputs": [
    {
     "name": "stdout",
     "output_type": "stream",
     "text": [
      "📄 Archivo más reciente: C:\\Users\\yonat\\OneDrive\\Documentos\\programas\\reporte\\transfer.xlsx\n"
     ]
    },
    {
     "ename": "APIError",
     "evalue": "APIError: [403]: Request had insufficient authentication scopes.",
     "output_type": "error",
     "traceback": [
      "\u001b[31m---------------------------------------------------------------------------\u001b[39m",
      "\u001b[31mAPIError\u001b[39m                                  Traceback (most recent call last)",
      "\u001b[36mCell\u001b[39m\u001b[36m \u001b[39m\u001b[32mIn[18]\u001b[39m\u001b[32m, line 51\u001b[39m\n\u001b[32m     48\u001b[39m df = df[:-\u001b[32m5\u001b[39m]\n\u001b[32m     50\u001b[39m     \u001b[38;5;66;03m# Limpiar la hoja anterior (opcional)\u001b[39;00m\n\u001b[32m---> \u001b[39m\u001b[32m51\u001b[39m \u001b[43msheets\u001b[49m\u001b[43m.\u001b[49m\u001b[43mclear\u001b[49m\u001b[43m(\u001b[49m\u001b[43m)\u001b[49m\n\u001b[32m     53\u001b[39m     \u001b[38;5;66;03m# Escribir los nuevos datos\u001b[39;00m\n\u001b[32m     54\u001b[39m set_with_dataframe(sheets, df)\n",
      "\u001b[36mFile \u001b[39m\u001b[32mc:\\Users\\yonat\\AppData\\Local\\Programs\\Python\\Python313\\Lib\\site-packages\\gspread\\worksheet.py:2207\u001b[39m, in \u001b[36mWorksheet.clear\u001b[39m\u001b[34m(self)\u001b[39m\n\u001b[32m   2205\u001b[39m \u001b[38;5;28;01mdef\u001b[39;00m\u001b[38;5;250m \u001b[39m\u001b[34mclear\u001b[39m(\u001b[38;5;28mself\u001b[39m) -> JSONResponse:\n\u001b[32m   2206\u001b[39m \u001b[38;5;250m    \u001b[39m\u001b[33;03m\"\"\"Clears all cells in the worksheet.\"\"\"\u001b[39;00m\n\u001b[32m-> \u001b[39m\u001b[32m2207\u001b[39m     \u001b[38;5;28;01mreturn\u001b[39;00m \u001b[38;5;28;43mself\u001b[39;49m\u001b[43m.\u001b[49m\u001b[43mclient\u001b[49m\u001b[43m.\u001b[49m\u001b[43mvalues_clear\u001b[49m\u001b[43m(\u001b[49m\n\u001b[32m   2208\u001b[39m \u001b[43m        \u001b[49m\u001b[38;5;28;43mself\u001b[39;49m\u001b[43m.\u001b[49m\u001b[43mspreadsheet_id\u001b[49m\u001b[43m,\u001b[49m\u001b[43m \u001b[49m\u001b[43mabsolute_range_name\u001b[49m\u001b[43m(\u001b[49m\u001b[38;5;28;43mself\u001b[39;49m\u001b[43m.\u001b[49m\u001b[43mtitle\u001b[49m\u001b[43m)\u001b[49m\n\u001b[32m   2209\u001b[39m \u001b[43m    \u001b[49m\u001b[43m)\u001b[49m\n",
      "\u001b[36mFile \u001b[39m\u001b[32mc:\\Users\\yonat\\AppData\\Local\\Programs\\Python\\Python313\\Lib\\site-packages\\gspread\\http_client.py:204\u001b[39m, in \u001b[36mHTTPClient.values_clear\u001b[39m\u001b[34m(self, id, range)\u001b[39m\n\u001b[32m    195\u001b[39m \u001b[38;5;250m\u001b[39m\u001b[33;03m\"\"\"Lower-level method that directly calls `spreadsheets/<ID>/values:clear <https://developers.google.com/sheets/api/reference/rest/v4/spreadsheets.values/clear>`_.\u001b[39;00m\n\u001b[32m    196\u001b[39m \n\u001b[32m    197\u001b[39m \u001b[33;03m:param str range: The `A1 notation <https://developers.google.com/sheets/api/guides/concepts#a1_notation>`_ of the values to clear.\u001b[39;00m\n\u001b[32m   (...)\u001b[39m\u001b[32m    201\u001b[39m \u001b[33;03m.. versionadded:: 3.0\u001b[39;00m\n\u001b[32m    202\u001b[39m \u001b[33;03m\"\"\"\u001b[39;00m\n\u001b[32m    203\u001b[39m url = SPREADSHEET_VALUES_CLEAR_URL % (\u001b[38;5;28mid\u001b[39m, quote(\u001b[38;5;28mrange\u001b[39m))\n\u001b[32m--> \u001b[39m\u001b[32m204\u001b[39m r = \u001b[38;5;28;43mself\u001b[39;49m\u001b[43m.\u001b[49m\u001b[43mrequest\u001b[49m\u001b[43m(\u001b[49m\u001b[33;43m\"\u001b[39;49m\u001b[33;43mpost\u001b[39;49m\u001b[33;43m\"\u001b[39;49m\u001b[43m,\u001b[49m\u001b[43m \u001b[49m\u001b[43murl\u001b[49m\u001b[43m)\u001b[49m\n\u001b[32m    205\u001b[39m \u001b[38;5;28;01mreturn\u001b[39;00m r.json()\n",
      "\u001b[36mFile \u001b[39m\u001b[32mc:\\Users\\yonat\\AppData\\Local\\Programs\\Python\\Python313\\Lib\\site-packages\\gspread\\http_client.py:128\u001b[39m, in \u001b[36mHTTPClient.request\u001b[39m\u001b[34m(self, method, endpoint, params, data, json, files, headers)\u001b[39m\n\u001b[32m    126\u001b[39m     \u001b[38;5;28;01mreturn\u001b[39;00m response\n\u001b[32m    127\u001b[39m \u001b[38;5;28;01melse\u001b[39;00m:\n\u001b[32m--> \u001b[39m\u001b[32m128\u001b[39m     \u001b[38;5;28;01mraise\u001b[39;00m APIError(response)\n",
      "\u001b[31mAPIError\u001b[39m: APIError: [403]: Request had insufficient authentication scopes."
     ]
    }
   ],
   "source": [
    "import gspread\n",
    "from google.oauth2.service_account import Credentials\n",
    "import pandas as pd\n",
    "from gspread_dataframe import set_with_dataframe\n",
    "import time\n",
    "import os\n",
    "\n",
    "# Ruta a tu archivo de credenciales\n",
    "CREDENTIALS_FILE = 'C:\\\\Users\\\\yonat\\\\OneDrive\\\\Documentos\\\\programas\\\\auto.json'\n",
    "\n",
    "# Ámbito de acceso a la API de Sheets\n",
    "SCOPES = ['https://www.googleapis.com/auth/spreadsheets.readonly']\n",
    "\n",
    "# Autenticación\n",
    "credentials = Credentials.from_service_account_file(CREDENTIALS_FILE, scopes=SCOPES)\n",
    "client = gspread.authorize(credentials)\n",
    "\n",
    "# Abre el archivo por nombre o por URL\n",
    "spreadsheet = client.open_by_url(\"https://docs.google.com/spreadsheets/d/1WaNSjdgPVJh0MaAqUxOxoO5Lu1WK9DQhhvsJQvQSJrg/edit?gid=0#gid=0\")  # o client.open_by_url(\"URL_DEL_SHEET\")\n",
    "\n",
    "    # Selecciona la hoja (worksheet)\n",
    "worksheet = spreadsheet.worksheet(\"hoja 1\")\n",
    "\n",
    "    # Obtiene todos los datos\n",
    "data = worksheet.get_all_values()\n",
    "\n",
    "df = pd.DataFrame(data[1:], columns=data[0])  # Usa la primera fila como encabezado\n",
    "# Guarda como Excel\n",
    "df.to_excel(\"reporte.xlsx\", index=False)\n",
    "\n",
    "\n",
    "#Copiar reporte de casos\n",
    "sheetsCases = client.open_by_key(\"1FDok-e6IZdtTfoPbCou2St7fmiuw4eOKhzkd4unsHlc\")\n",
    "sheets = sheetsCases.worksheet(\"Transfer\")\n",
    "    \n",
    "time.sleep(1)\n",
    "def archivo_mas_reciente(carpeta, extension=\".xlsx\"):\n",
    "        archivos = [f for f in os.listdir(carpeta) if f.endswith(extension)]\n",
    "        if not archivos:\n",
    "            raise FileNotFoundError(\"No se encontró ningún archivo XLSX en la carpeta.\")\n",
    "        \n",
    "        archivos = [os.path.join(carpeta, f) for f in archivos]\n",
    "        archivo_reciente = max(archivos, key=os.path.getctime)\n",
    "        return archivo_reciente\n",
    "ruta_archivo = archivo_mas_reciente(\"C:\\\\Users\\\\yonat\\\\OneDrive\\\\Documentos\\\\programas\\\\reporte\")\n",
    "print(\"📄 Archivo más reciente:\", ruta_archivo)\n",
    "df = pd.read_excel(ruta_archivo)\n",
    "df = df[:-5]\n",
    "\n",
    "    # Limpiar la hoja anterior (opcional)\n",
    "sheets.clear()\n",
    "\n",
    "    # Escribir los nuevos datos\n",
    "set_with_dataframe(sheets, df)\n",
    "\n",
    "print(\"✅ Hoja 'Transfer' actualizada en Google Sheets.\")\n"
   ]
  }
 ],
 "metadata": {
  "kernelspec": {
   "display_name": "Python 3",
   "language": "python",
   "name": "python3"
  },
  "language_info": {
   "codemirror_mode": {
    "name": "ipython",
    "version": 3
   },
   "file_extension": ".py",
   "mimetype": "text/x-python",
   "name": "python",
   "nbconvert_exporter": "python",
   "pygments_lexer": "ipython3",
   "version": "3.13.2"
  }
 },
 "nbformat": 4,
 "nbformat_minor": 5
}
